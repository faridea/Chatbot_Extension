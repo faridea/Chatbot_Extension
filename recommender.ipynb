{
 "cells": [
  {
   "cell_type": "code",
   "execution_count": null,
   "metadata": {
    "id": "HgMlpWdjSNpI"
   },
   "outputs": [],
   "source": [
    "import pandas as pd\n",
    "import numpy as np\n",
    "from tensorflow.keras.models import Sequential\n",
    "from tensorflow.keras.layers import LSTM, Dense, Embedding, GlobalMaxPooling1D, Dropout\n",
    "\n",
    "df = pd.read_csv('mooddata.csv')\n",
    "emotions = list(df['mood'])\n",
    "suggestions = list(df['sentence'])\n",
    "\n",
    "data = []\n",
    "for emotion in emotions:\n",
    "    for suggestion in suggestions:\n",
    "        data.append((emotion, suggestion))\n",
    "\n",
    "np.random.shuffle(data)\n",
    "vocab = set(suggestions)\n",
    "X = np.zeros((len(data), len(emotions), 1))\n",
    "y = np.zeros((len(data), len(vocab)))\n",
    "\n",
    "for i, (emotion, suggestion) in enumerate(data):\n",
    "    for t, token in enumerate(emotion):\n",
    "        X[i, emotions.index(emotion), 0] = 1\n",
    "    y[i, list(vocab).index(suggestion)] = 1\n",
    "\n",
    "X = X / np.max(X)\n",
    "\n",
    "model = Sequential()\n",
    "model.add(Embedding(len(vocab), 32, input_length=1))\n",
    "model.add(GlobalMaxPooling1D())\n",
    "model.add(Dense(128, activation='relu'))\n",
    "model.add(Dropout(0.2))\n",
    "model.add(Dense(64, activation='relu'))\n",
    "model.add(Dropout(0.2))\n",
    "model.add(Dense(len(vocab), activation='softmax'))\n",
    "\n",
    "model.compile(loss='categorical_crossentropy', optimizer='adam', metrics=['accuracy'])\n",
    "model.fit(X, y, epochs=50, batch_size=64)"
   ]
  },
  {
   "cell_type": "code",
   "execution_count": null,
   "metadata": {
    "id": "3dVh2yGAaq99"
   },
   "outputs": [],
   "source": [
    "from tensorflow.keras.preprocessing.text import Tokenizer\n",
    "\n",
    "tokenizer = Tokenizer(num_words = 5000)\n",
    "tokenizer.fit_on_texts(suggestions)\n",
    "vocab_size = len(tokenizer.word_index) + 1"
   ]
  },
  {
   "cell_type": "code",
   "execution_count": null,
   "metadata": {
    "id": "g_EBvjcHagIL"
   },
   "outputs": [],
   "source": [
    "model = Sequential()\n",
    "model.add(Embedding(vocab_size, 32, input_length=1))\n",
    "model.add(GlobalMaxPooling1D())\n",
    "model.add(Dense(128, activation='relu'))\n",
    "model.add(Dropout(0.2))\n",
    "model.add(Dense(64, activation='relu'))\n",
    "model.add(Dropout(0.2))\n",
    "model.add(Dense(vocab_size, activation='softmax'))"
   ]
  },
  {
   "cell_type": "code",
   "execution_count": null,
   "metadata": {
    "id": "WXgTut-5aw3U"
   },
   "outputs": [],
   "source": [
    "X_data = []\n",
    "y_data = []\n",
    "\n",
    "for emotion, suggestion in data:\n",
    "    x_row = np.zeros((len(emotions), 1))\n",
    "    x_row[emotions.index(emotion), 0] = 1\n",
    "    X_data.append(x_row)\n",
    "\n",
    "    sequence = tokenizer.texts_to_sequences([suggestion])[0]\n",
    "    y_row = np.zeros((vocab_size,))\n",
    "    y_row[sequence] = 1\n",
    "    y_data.append(y_row)\n",
    "\n",
    "X = np.array(X_data)\n",
    "y = np.array(y_data)"
   ]
  },
  {
   "cell_type": "code",
   "execution_count": null,
   "metadata": {
    "id": "9N61OYD1Y01k"
   },
   "outputs": [],
   "source": [
    "def data_generator(data, batch_size):\n",
    "    while True:\n",
    "        np.random.shuffle(data)\n",
    "        for i in range(0, len(data), batch_size):\n",
    "            batch_data = data[i:i+batch_size]\n",
    "            X_batch = np.zeros((len(batch_data), len(emotions), 1))\n",
    "            y_batch = np.zeros((len(batch_data), vocab_size))\n",
    "            for j, (emotion, suggestion) in enumerate(batch_data):\n",
    "                X_batch[j, emotions.index(emotion), 0] = 1\n",
    "                sequence = tokenizer.texts_to_sequences([suggestion])[0]\n",
    "                y_batch[j, sequence] = 1\n",
    "            yield X_batch, y_batch\n",
    "\n",
    "batch_size = 64\n",
    "train_generator = data_generator(data, batch_size)\n",
    "model.compile(loss='categorical_crossentropy', optimizer='adam', metrics=['accuracy'])\n",
    "\n",
    "model.fit_generator(train_generator, steps_per_epoch=len(data)//batch_size, epochs=50)"
   ]
  },
  {
   "cell_type": "code",
   "execution_count": null,
   "metadata": {
    "id": "nNUtEaNKs1wc"
   },
   "outputs": [],
   "source": [
    "from tensorflow.keras.utils import get_file\n",
    "\n",
    "glove_url = 'https://nlp.stanford.edu/data/glove.6B.zip'\n",
    "glove_path = get_file('glove.6B.zip', glove_url, extract=True)\n",
    "glove_file = glove_path.replace('.zip', '.txt')\n",
    "\n",
    "embeddings_index = {}\n",
    "with open(glove_file, encoding='utf-8') as f:\n",
    "    for line in f:\n",
    "        values = line.split()\n",
    "        word = values[0]\n",
    "        embedding = np.array(values[1:], dtype=np.float32)\n",
    "        embeddings_index[word] = embedding\n",
    "\n",
    "embedding_dim = 100\n",
    "embedding_matrix = np.zeros((vocab_size, embedding_dim))\n",
    "for word, index in tokenizer.word_index.items():\n",
    "    embedding_vector = embeddings_index.get(word)\n",
    "    if embedding_vector is not None:\n",
    "        embedding_matrix[index] = embedding_vector"
   ]
  },
  {
   "cell_type": "code",
   "execution_count": null,
   "metadata": {
    "colab": {
     "base_uri": "https://localhost:8080/"
    },
    "id": "LflxUseKzLWZ",
    "outputId": "d71101e8-96d3-42c8-96d0-33db48d57cc1"
   },
   "outputs": [
    {
     "name": "stderr",
     "output_type": "stream",
     "text": [
      "[nltk_data] Downloading package stopwords to /root/nltk_data...\n",
      "[nltk_data]   Unzipping corpora/stopwords.zip.\n"
     ]
    }
   ],
   "source": [
    "import string\n",
    "import nltk\n",
    "\n",
    "df = pd.read_csv('mood_data.csv')\n",
    "emotions = list(df['mood'])\n",
    "labels = list(df['sentence'])\n",
    "data = []\n",
    "\n",
    "for emotion in emotions:\n",
    "    for suggestion in labels:\n",
    "        data.append((emotion, suggestion))\n",
    "\n",
    "np.random.shuffle(data)\n",
    "\n",
    "translator = str.maketrans(\"\", \"\", string.punctuation)\n",
    "labels = [sentence.translate(translator) for sentence in labels]\n",
    "nltk.download('stopwords')\n",
    "stop_words = set(nltk.corpus.stopwords.words(\"english\"))\n",
    "labels = [\" \".join([word for word in sentence.split() if word not in stop_words]) for sentence in labels]\n",
    "tokenizer = Tokenizer()\n",
    "tokenizer.fit_on_texts(labels)\n",
    "vocab_size = len(tokenizer.word_index) + 1\n",
    "\n",
    "sequences = tokenizer.texts_to_sequences(labels)"
   ]
  },
  {
   "cell_type": "code",
   "execution_count": null,
   "metadata": {
    "id": "9ZHKg78T9qSP"
   },
   "outputs": [],
   "source": [
    "from tensorflow.keras.preprocessing.sequence import pad_sequences\n",
    "\n",
    "max_sequence_length = max(len(seq) for seq in sequences)\n",
    "padded_sequences = pad_sequences(sequences, maxlen=max_sequence_length)\n",
    "label_mapping = {label: i for i, label in enumerate(labels)}\n",
    "one_hot_labels = np.zeros((len(labels), len(labels)))\n",
    "\n",
    "for i, label in enumerate(labels):\n",
    "    one_hot_labels[i, i] = 1"
   ]
  },
  {
   "cell_type": "code",
   "execution_count": null,
   "metadata": {
    "colab": {
     "base_uri": "https://localhost:8080/"
    },
    "id": "JrgLPoGYqfBY",
    "outputId": "895e0004-6073-484b-ff24-25260ddcacd7"
   },
   "outputs": [
    {
     "name": "stdout",
     "output_type": "stream",
     "text": [
      "Epoch 1/100\n",
      "78/78 [==============================] - 3s 7ms/step - loss: 7.8291 - accuracy: 4.0551e-04\n",
      "Epoch 2/100\n",
      "78/78 [==============================] - 1s 7ms/step - loss: 7.8055 - accuracy: 8.1103e-04\n",
      "Epoch 3/100\n",
      "78/78 [==============================] - 1s 7ms/step - loss: 7.6784 - accuracy: 0.0215\n",
      "Epoch 4/100\n",
      "78/78 [==============================] - 1s 8ms/step - loss: 7.3689 - accuracy: 0.0608\n",
      "Epoch 5/100\n",
      "78/78 [==============================] - 1s 10ms/step - loss: 6.8702 - accuracy: 0.1796\n",
      "Epoch 6/100\n",
      "78/78 [==============================] - 1s 13ms/step - loss: 6.3248 - accuracy: 0.3646\n",
      "Epoch 7/100\n",
      "78/78 [==============================] - 1s 8ms/step - loss: 5.8065 - accuracy: 0.5657\n",
      "Epoch 8/100\n",
      "78/78 [==============================] - 1s 7ms/step - loss: 5.3174 - accuracy: 0.6772\n",
      "Epoch 9/100\n",
      "78/78 [==============================] - 1s 8ms/step - loss: 4.8667 - accuracy: 0.7534\n",
      "Epoch 10/100\n",
      "78/78 [==============================] - 1s 10ms/step - loss: 4.4365 - accuracy: 0.7855\n",
      "Epoch 11/100\n",
      "78/78 [==============================] - 1s 7ms/step - loss: 4.0344 - accuracy: 0.8236\n",
      "Epoch 12/100\n",
      "78/78 [==============================] - 1s 7ms/step - loss: 3.6582 - accuracy: 0.8455\n",
      "Epoch 13/100\n",
      "78/78 [==============================] - 0s 6ms/step - loss: 3.3020 - accuracy: 0.8698\n",
      "Epoch 14/100\n",
      "78/78 [==============================] - 0s 5ms/step - loss: 2.9702 - accuracy: 0.8751\n",
      "Epoch 15/100\n",
      "78/78 [==============================] - 0s 5ms/step - loss: 2.6717 - accuracy: 0.8962\n",
      "Epoch 16/100\n",
      "78/78 [==============================] - 0s 5ms/step - loss: 2.3768 - accuracy: 0.9063\n",
      "Epoch 17/100\n",
      "78/78 [==============================] - 0s 5ms/step - loss: 2.1220 - accuracy: 0.9161\n",
      "Epoch 18/100\n",
      "78/78 [==============================] - 0s 5ms/step - loss: 1.8915 - accuracy: 0.9286\n",
      "Epoch 19/100\n",
      "78/78 [==============================] - 0s 5ms/step - loss: 1.6837 - accuracy: 0.9307\n",
      "Epoch 20/100\n",
      "78/78 [==============================] - 0s 5ms/step - loss: 1.4922 - accuracy: 0.9367\n",
      "Epoch 21/100\n",
      "78/78 [==============================] - 0s 5ms/step - loss: 1.3337 - accuracy: 0.9428\n",
      "Epoch 22/100\n",
      "78/78 [==============================] - 1s 7ms/step - loss: 1.1868 - accuracy: 0.9497\n",
      "Epoch 23/100\n",
      "78/78 [==============================] - 1s 7ms/step - loss: 1.0594 - accuracy: 0.9530\n",
      "Epoch 24/100\n",
      "78/78 [==============================] - 1s 7ms/step - loss: 0.9502 - accuracy: 0.9599\n",
      "Epoch 25/100\n",
      "78/78 [==============================] - 1s 7ms/step - loss: 0.8574 - accuracy: 0.9578\n",
      "Epoch 26/100\n",
      "78/78 [==============================] - 1s 7ms/step - loss: 0.7742 - accuracy: 0.9594\n",
      "Epoch 27/100\n",
      "78/78 [==============================] - 1s 7ms/step - loss: 0.7063 - accuracy: 0.9672\n",
      "Epoch 28/100\n",
      "78/78 [==============================] - 1s 8ms/step - loss: 0.6382 - accuracy: 0.9659\n",
      "Epoch 29/100\n",
      "78/78 [==============================] - 1s 8ms/step - loss: 0.5849 - accuracy: 0.9684\n",
      "Epoch 30/100\n",
      "78/78 [==============================] - 1s 6ms/step - loss: 0.5364 - accuracy: 0.9672\n",
      "Epoch 31/100\n",
      "78/78 [==============================] - 0s 5ms/step - loss: 0.4907 - accuracy: 0.9704\n",
      "Epoch 32/100\n",
      "78/78 [==============================] - 0s 5ms/step - loss: 0.4658 - accuracy: 0.9704\n",
      "Epoch 33/100\n",
      "78/78 [==============================] - 0s 5ms/step - loss: 0.4289 - accuracy: 0.9728\n",
      "Epoch 34/100\n",
      "78/78 [==============================] - 1s 7ms/step - loss: 0.3903 - accuracy: 0.9757\n",
      "Epoch 35/100\n",
      "78/78 [==============================] - 1s 6ms/step - loss: 0.3721 - accuracy: 0.9749\n",
      "Epoch 36/100\n",
      "78/78 [==============================] - 0s 6ms/step - loss: 0.3425 - accuracy: 0.9781\n",
      "Epoch 37/100\n",
      "78/78 [==============================] - 1s 6ms/step - loss: 0.3159 - accuracy: 0.9781\n",
      "Epoch 38/100\n",
      "78/78 [==============================] - 1s 6ms/step - loss: 0.2939 - accuracy: 0.9789\n",
      "Epoch 39/100\n",
      "78/78 [==============================] - 1s 7ms/step - loss: 0.2788 - accuracy: 0.9797\n",
      "Epoch 40/100\n",
      "78/78 [==============================] - 1s 7ms/step - loss: 0.2592 - accuracy: 0.9777\n",
      "Epoch 41/100\n",
      "78/78 [==============================] - 1s 7ms/step - loss: 0.2437 - accuracy: 0.9801\n",
      "Epoch 42/100\n",
      "78/78 [==============================] - 1s 7ms/step - loss: 0.2332 - accuracy: 0.9801\n",
      "Epoch 43/100\n",
      "78/78 [==============================] - 1s 7ms/step - loss: 0.2185 - accuracy: 0.9793\n",
      "Epoch 44/100\n",
      "78/78 [==============================] - 0s 5ms/step - loss: 0.2059 - accuracy: 0.9813\n",
      "Epoch 45/100\n",
      "78/78 [==============================] - 0s 5ms/step - loss: 0.2059 - accuracy: 0.9822\n",
      "Epoch 46/100\n",
      "78/78 [==============================] - 0s 5ms/step - loss: 0.1884 - accuracy: 0.9826\n",
      "Epoch 47/100\n",
      "78/78 [==============================] - 0s 5ms/step - loss: 0.1782 - accuracy: 0.9809\n",
      "Epoch 48/100\n",
      "78/78 [==============================] - 0s 5ms/step - loss: 0.1682 - accuracy: 0.9822\n",
      "Epoch 49/100\n",
      "78/78 [==============================] - 0s 5ms/step - loss: 0.1620 - accuracy: 0.9813\n",
      "Epoch 50/100\n",
      "78/78 [==============================] - 0s 5ms/step - loss: 0.1565 - accuracy: 0.9838\n",
      "Epoch 51/100\n",
      "78/78 [==============================] - 0s 5ms/step - loss: 0.1464 - accuracy: 0.9842\n",
      "Epoch 52/100\n",
      "78/78 [==============================] - 0s 5ms/step - loss: 0.1384 - accuracy: 0.9842\n",
      "Epoch 53/100\n",
      "78/78 [==============================] - 0s 5ms/step - loss: 0.1321 - accuracy: 0.9842\n",
      "Epoch 54/100\n",
      "78/78 [==============================] - 0s 5ms/step - loss: 0.1301 - accuracy: 0.9830\n",
      "Epoch 55/100\n",
      "78/78 [==============================] - 0s 5ms/step - loss: 0.1547 - accuracy: 0.9797\n",
      "Epoch 56/100\n",
      "78/78 [==============================] - 0s 5ms/step - loss: 0.1475 - accuracy: 0.9809\n",
      "Epoch 57/100\n",
      "78/78 [==============================] - 0s 5ms/step - loss: 0.1294 - accuracy: 0.9818\n",
      "Epoch 58/100\n",
      "78/78 [==============================] - 0s 5ms/step - loss: 0.1117 - accuracy: 0.9850\n",
      "Epoch 59/100\n",
      "78/78 [==============================] - 0s 5ms/step - loss: 0.1040 - accuracy: 0.9866\n",
      "Epoch 60/100\n",
      "78/78 [==============================] - 0s 5ms/step - loss: 0.0995 - accuracy: 0.9842\n",
      "Epoch 61/100\n",
      "78/78 [==============================] - 0s 5ms/step - loss: 0.0936 - accuracy: 0.9838\n",
      "Epoch 62/100\n",
      "78/78 [==============================] - 0s 5ms/step - loss: 0.0924 - accuracy: 0.9858\n",
      "Epoch 63/100\n",
      "78/78 [==============================] - 0s 5ms/step - loss: 0.0968 - accuracy: 0.9846\n",
      "Epoch 64/100\n",
      "78/78 [==============================] - 0s 5ms/step - loss: 0.0903 - accuracy: 0.9822\n",
      "Epoch 65/100\n",
      "78/78 [==============================] - 0s 5ms/step - loss: 0.0871 - accuracy: 0.9846\n",
      "Epoch 66/100\n",
      "78/78 [==============================] - 0s 5ms/step - loss: 0.0802 - accuracy: 0.9834\n",
      "Epoch 67/100\n",
      "78/78 [==============================] - 0s 5ms/step - loss: 0.0833 - accuracy: 0.9846\n",
      "Epoch 68/100\n",
      "78/78 [==============================] - 0s 6ms/step - loss: 0.0760 - accuracy: 0.9842\n",
      "Epoch 69/100\n",
      "78/78 [==============================] - 1s 7ms/step - loss: 0.0715 - accuracy: 0.9858\n",
      "Epoch 70/100\n",
      "78/78 [==============================] - 1s 7ms/step - loss: 0.0683 - accuracy: 0.9870\n",
      "Epoch 71/100\n",
      "78/78 [==============================] - 1s 7ms/step - loss: 0.0656 - accuracy: 0.9850\n",
      "Epoch 72/100\n",
      "78/78 [==============================] - 1s 7ms/step - loss: 0.0638 - accuracy: 0.9854\n",
      "Epoch 73/100\n",
      "78/78 [==============================] - 1s 7ms/step - loss: 0.0620 - accuracy: 0.9846\n",
      "Epoch 74/100\n",
      "78/78 [==============================] - 1s 7ms/step - loss: 0.0599 - accuracy: 0.9854\n",
      "Epoch 75/100\n",
      "78/78 [==============================] - 1s 7ms/step - loss: 0.0593 - accuracy: 0.9850\n",
      "Epoch 76/100\n",
      "78/78 [==============================] - 1s 7ms/step - loss: 0.0576 - accuracy: 0.9862\n",
      "Epoch 77/100\n",
      "78/78 [==============================] - 0s 6ms/step - loss: 0.0566 - accuracy: 0.9854\n",
      "Epoch 78/100\n",
      "78/78 [==============================] - 0s 5ms/step - loss: 0.0533 - accuracy: 0.9866\n",
      "Epoch 79/100\n",
      "78/78 [==============================] - 0s 5ms/step - loss: 0.0537 - accuracy: 0.9834\n",
      "Epoch 80/100\n",
      "78/78 [==============================] - 0s 5ms/step - loss: 0.0534 - accuracy: 0.9846\n",
      "Epoch 81/100\n",
      "78/78 [==============================] - 0s 5ms/step - loss: 0.0565 - accuracy: 0.9846\n",
      "Epoch 82/100\n",
      "78/78 [==============================] - 0s 5ms/step - loss: 0.0761 - accuracy: 0.9818\n",
      "Epoch 83/100\n",
      "78/78 [==============================] - 0s 5ms/step - loss: 0.0892 - accuracy: 0.9813\n",
      "Epoch 84/100\n",
      "78/78 [==============================] - 0s 5ms/step - loss: 0.0718 - accuracy: 0.9822\n",
      "Epoch 85/100\n",
      "78/78 [==============================] - 0s 5ms/step - loss: 0.0626 - accuracy: 0.9822\n",
      "Epoch 86/100\n",
      "78/78 [==============================] - 0s 5ms/step - loss: 0.0682 - accuracy: 0.9846\n",
      "Epoch 87/100\n",
      "78/78 [==============================] - 0s 5ms/step - loss: 0.0534 - accuracy: 0.9846\n",
      "Epoch 88/100\n",
      "78/78 [==============================] - 0s 5ms/step - loss: 0.0473 - accuracy: 0.9850\n",
      "Epoch 89/100\n",
      "78/78 [==============================] - 0s 5ms/step - loss: 0.0442 - accuracy: 0.9858\n",
      "Epoch 90/100\n",
      "78/78 [==============================] - 0s 5ms/step - loss: 0.0413 - accuracy: 0.9842\n",
      "Epoch 91/100\n",
      "78/78 [==============================] - 0s 5ms/step - loss: 0.0401 - accuracy: 0.9862\n",
      "Epoch 92/100\n",
      "78/78 [==============================] - 0s 5ms/step - loss: 0.0392 - accuracy: 0.9858\n",
      "Epoch 93/100\n",
      "78/78 [==============================] - 0s 5ms/step - loss: 0.0376 - accuracy: 0.9854\n",
      "Epoch 94/100\n",
      "78/78 [==============================] - 0s 5ms/step - loss: 0.0363 - accuracy: 0.9858\n",
      "Epoch 95/100\n",
      "78/78 [==============================] - 0s 5ms/step - loss: 0.0354 - accuracy: 0.9854\n",
      "Epoch 96/100\n",
      "78/78 [==============================] - 0s 5ms/step - loss: 0.0348 - accuracy: 0.9846\n",
      "Epoch 97/100\n",
      "78/78 [==============================] - 0s 5ms/step - loss: 0.0346 - accuracy: 0.9874\n",
      "Epoch 98/100\n",
      "78/78 [==============================] - 0s 5ms/step - loss: 0.0335 - accuracy: 0.9846\n",
      "Epoch 99/100\n",
      "78/78 [==============================] - 0s 5ms/step - loss: 0.0330 - accuracy: 0.9862\n",
      "Epoch 100/100\n",
      "78/78 [==============================] - 0s 5ms/step - loss: 0.0326 - accuracy: 0.9850\n",
      "16/16 [==============================] - 0s 4ms/step - loss: 0.0241 - accuracy: 0.9939\n",
      "Test Loss: 0.024140728637576103\n",
      "Test Accuracy: 0.9939271211624146\n"
     ]
    }
   ],
   "source": [
    "from sklearn.model_selection import train_test_split\n",
    "\n",
    "max_sequence_length = max(len(seq) for seq in sequences)\n",
    "padded_sequences = pad_sequences(sequences, maxlen=max_sequence_length)\n",
    "label_mapping = {label: i for i, label in enumerate(labels)}\n",
    "one_hot_labels = np.zeros((len(labels), len(labels)))\n",
    "for i, label in enumerate(labels):\n",
    "    one_hot_labels[i, i] = 1\n",
    "\n",
    "X_train, X_test, y_train, y_test = train_test_split(padded_sequences, one_hot_labels, test_size=0.2, random_state=42)\n",
    "\n",
    "model = Sequential()\n",
    "model.add(Embedding(vocab_size, embedding_dim, weights=[embedding_matrix], input_length=max_sequence_length, trainable=False))\n",
    "model.add(LSTM(64))\n",
    "model.add(Dense(len(labels), activation='softmax'))\n",
    "model.compile(loss='categorical_crossentropy', optimizer='adam', metrics=['accuracy'])\n",
    "model.fit(padded_sequences, one_hot_labels, epochs=100)\n",
    "\n",
    "test_loss, test_accuracy = model.evaluate(X_test, y_test)\n",
    "print(\"Test Loss:\", test_loss)\n",
    "print(\"Test Accuracy:\", test_accuracy)"
   ]
  },
  {
   "cell_type": "code",
   "execution_count": null,
   "metadata": {
    "colab": {
     "base_uri": "https://localhost:8080/"
    },
    "id": "4i2Su7dp1SXK",
    "outputId": "543e75c0-513f-4a98-cd30-c6959127da2b"
   },
   "outputs": [
    {
     "name": "stdout",
     "output_type": "stream",
     "text": [
      "Epoch 1/40\n",
      "78/78 [==============================] - 3s 6ms/step - loss: 0.0337 - accuracy: 0.9834\n",
      "Epoch 2/40\n",
      "78/78 [==============================] - 1s 7ms/step - loss: 0.0327 - accuracy: 0.9858\n",
      "Epoch 3/40\n",
      "78/78 [==============================] - 1s 7ms/step - loss: 0.0327 - accuracy: 0.9854\n",
      "Epoch 4/40\n",
      "78/78 [==============================] - 1s 7ms/step - loss: 0.0332 - accuracy: 0.9842\n",
      "Epoch 5/40\n",
      "78/78 [==============================] - 1s 7ms/step - loss: 0.0312 - accuracy: 0.9846\n",
      "Epoch 6/40\n",
      "78/78 [==============================] - 1s 7ms/step - loss: 0.0302 - accuracy: 0.9854\n",
      "Epoch 7/40\n",
      "78/78 [==============================] - 1s 9ms/step - loss: 0.0295 - accuracy: 0.9858\n",
      "Epoch 8/40\n",
      "78/78 [==============================] - 1s 9ms/step - loss: 0.0291 - accuracy: 0.9850\n",
      "Epoch 9/40\n",
      "78/78 [==============================] - 1s 7ms/step - loss: 0.0294 - accuracy: 0.9846\n",
      "Epoch 10/40\n",
      "78/78 [==============================] - 1s 7ms/step - loss: 0.0286 - accuracy: 0.9862\n",
      "Epoch 11/40\n",
      "78/78 [==============================] - 1s 7ms/step - loss: 0.0276 - accuracy: 0.9850\n",
      "Epoch 12/40\n",
      "78/78 [==============================] - 1s 7ms/step - loss: 0.0275 - accuracy: 0.9846\n",
      "Epoch 13/40\n",
      "78/78 [==============================] - 1s 7ms/step - loss: 0.0272 - accuracy: 0.9854\n",
      "Epoch 14/40\n",
      "78/78 [==============================] - 1s 7ms/step - loss: 0.0266 - accuracy: 0.9854\n",
      "Epoch 15/40\n",
      "78/78 [==============================] - 1s 7ms/step - loss: 0.0261 - accuracy: 0.9850\n",
      "Epoch 16/40\n",
      "78/78 [==============================] - 1s 7ms/step - loss: 0.0262 - accuracy: 0.9846\n",
      "Epoch 17/40\n",
      "78/78 [==============================] - 0s 5ms/step - loss: 0.0259 - accuracy: 0.9866\n",
      "Epoch 18/40\n",
      "78/78 [==============================] - 0s 5ms/step - loss: 0.0259 - accuracy: 0.9842\n",
      "Epoch 19/40\n",
      "78/78 [==============================] - 0s 5ms/step - loss: 0.0254 - accuracy: 0.9858\n",
      "Epoch 20/40\n",
      "78/78 [==============================] - 0s 5ms/step - loss: 0.0250 - accuracy: 0.9854\n",
      "Epoch 21/40\n",
      "78/78 [==============================] - 0s 5ms/step - loss: 0.0246 - accuracy: 0.9866\n",
      "Epoch 22/40\n",
      "78/78 [==============================] - 0s 5ms/step - loss: 0.0244 - accuracy: 0.9854\n",
      "Epoch 23/40\n",
      "78/78 [==============================] - 0s 5ms/step - loss: 0.0241 - accuracy: 0.9878\n",
      "Epoch 24/40\n",
      "78/78 [==============================] - 0s 5ms/step - loss: 0.0244 - accuracy: 0.9866\n",
      "Epoch 25/40\n",
      "78/78 [==============================] - 0s 5ms/step - loss: 0.0250 - accuracy: 0.9866\n",
      "Epoch 26/40\n",
      "78/78 [==============================] - 0s 5ms/step - loss: 0.0244 - accuracy: 0.9850\n",
      "Epoch 27/40\n",
      "78/78 [==============================] - 0s 5ms/step - loss: 0.0240 - accuracy: 0.9842\n",
      "Epoch 28/40\n",
      "78/78 [==============================] - 1s 6ms/step - loss: 0.0236 - accuracy: 0.9862\n",
      "Epoch 29/40\n",
      "78/78 [==============================] - 1s 7ms/step - loss: 0.0245 - accuracy: 0.9850\n",
      "Epoch 30/40\n",
      "78/78 [==============================] - 1s 7ms/step - loss: 0.0240 - accuracy: 0.9846\n",
      "Epoch 31/40\n",
      "78/78 [==============================] - 1s 14ms/step - loss: 0.0227 - accuracy: 0.9846\n",
      "Epoch 32/40\n",
      "78/78 [==============================] - 1s 17ms/step - loss: 0.0227 - accuracy: 0.9858\n",
      "Epoch 33/40\n",
      "78/78 [==============================] - 1s 13ms/step - loss: 0.0222 - accuracy: 0.9858\n",
      "Epoch 34/40\n",
      "78/78 [==============================] - 1s 17ms/step - loss: 0.0228 - accuracy: 0.9850\n",
      "Epoch 35/40\n",
      "78/78 [==============================] - 1s 13ms/step - loss: 0.0222 - accuracy: 0.9838\n",
      "Epoch 36/40\n",
      "78/78 [==============================] - 1s 11ms/step - loss: 0.0221 - accuracy: 0.9858\n",
      "Epoch 37/40\n",
      "78/78 [==============================] - 1s 11ms/step - loss: 0.0221 - accuracy: 0.9854\n",
      "Epoch 38/40\n",
      "78/78 [==============================] - 1s 9ms/step - loss: 0.0219 - accuracy: 0.9854\n",
      "Epoch 39/40\n",
      "78/78 [==============================] - 1s 7ms/step - loss: 0.0218 - accuracy: 0.9850\n",
      "Epoch 40/40\n",
      "78/78 [==============================] - 1s 7ms/step - loss: 0.0214 - accuracy: 0.9850\n"
     ]
    }
   ],
   "source": [
    "history = model.fit(padded_sequences, one_hot_labels, epochs=40)\n",
    "accuracy_values = history.history['accuracy']"
   ]
  },
  {
   "cell_type": "code",
   "execution_count": null,
   "metadata": {
    "colab": {
     "base_uri": "https://localhost:8080/"
    },
    "id": "kIawTgo11W9F",
    "outputId": "5909d667-dd4d-4d22-8bcc-d67ea1f05894"
   },
   "outputs": [
    {
     "data": {
      "text/plain": [
       "0.9853000819683075"
      ]
     },
     "execution_count": 63,
     "metadata": {},
     "output_type": "execute_result"
    }
   ],
   "source": [
    "mean_accuracy = np.mean(accuracy_values)\n",
    "mean_accuracy"
   ]
  },
  {
   "cell_type": "code",
   "execution_count": null,
   "metadata": {
    "colab": {
     "base_uri": "https://localhost:8080/",
     "height": 472
    },
    "id": "GuOh9pDj1W5q",
    "outputId": "6a064cdf-d61e-4ef3-9c57-c84145be4844"
   },
   "outputs": [
    {
     "data": {
      "image/png": "[encoded data removed]",
      "text/plain": [
       "<Figure size 640x480 with 1 Axes>"
      ]
     },
     "metadata": {},
     "output_type": "display_data"
    }
   ],
   "source": [
    "import matplotlib.pyplot as plt\n",
    "\n",
    "epochs = range(1, len(accuracy_values) + 1)\n",
    "plt.plot(epochs, accuracy_values, 'b', label='Training Accuracy')\n",
    "plt.title('Training Accuracy')\n",
    "plt.xlabel('Epochs')\n",
    "plt.ylabel('Accuracy')\n",
    "plt.legend()\n",
    "plt.show()"
   ]
  },
  {
   "cell_type": "code",
   "execution_count": null,
   "metadata": {
    "colab": {
     "base_uri": "https://localhost:8080/",
     "height": 422
    },
    "id": "eBZ7lG5i1W20",
    "outputId": "243cf9bc-a0a7-45ab-ee37-6e16e08cf65d"
   },
   "outputs": [
    {
     "data": {
      "image/png": "[encoded data removed]",
      "text/plain": [
       "<IPython.core.display.Image object>"
      ]
     },
     "execution_count": 5,
     "metadata": {},
     "output_type": "execute_result"
    }
   ],
   "source": [
    "from keras.utils import plot_model\n",
    "\n",
    "plot_model(model, to_file='model_architecture.png', show_shapes=True, show_layer_names=True)"
   ]
  },
  {
   "cell_type": "code",
   "execution_count": null,
   "metadata": {
    "colab": {
     "base_uri": "https://localhost:8080/"
    },
    "id": "Ln4j_lIXv8hB",
    "outputId": "07081d2a-813d-43e3-dd6a-14a764380dae"
   },
   "outputs": [
    {
     "name": "stdout",
     "output_type": "stream",
     "text": [
      "Model: \"sequential\"\n",
      "_________________________________________________________________\n",
      " Layer (type)                Output Shape              Param #   \n",
      "=================================================================\n",
      " embedding (Embedding)       (None, 17, 300)           755700    \n",
      "                                                                 \n",
      " lstm (LSTM)                 (None, 64)                93440     \n",
      "                                                                 \n",
      " dense (Dense)               (None, 2466)              160290    \n",
      "                                                                 \n",
      "=================================================================\n",
      "Total params: 1009430 (3.85 MB)\n",
      "Trainable params: 253730 (991.13 KB)\n",
      "Non-trainable params: 755700 (2.88 MB)\n",
      "_________________________________________________________________\n"
     ]
    }
   ],
   "source": [
    "model.summary()"
   ]
  },
  {
   "cell_type": "code",
   "execution_count": null,
   "metadata": {
    "colab": {
     "base_uri": "https://localhost:8080/"
    },
    "id": "URCWrqJx_WPl",
    "outputId": "9e22d452-5c0e-4944-d032-4c40c2778175"
   },
   "outputs": [
    {
     "name": "stdout",
     "output_type": "stream",
     "text": [
      "1/1 [==============================] - 0s 30ms/step\n",
      "You sound like you're struggling with sadness, Visualize people and things that bring you comfort, calm and peace. soak up the good feelings.\n",
      "1/1 [==============================] - 0s 19ms/step\n",
      "You sound like you're struggling with anger, Here's a tip for you appreciate even minor blessings like clean water, a roof overhead or being able to walk independently. gratitude shifts perspective.\n",
      "1/1 [==============================] - 0s 18ms/step\n",
      "You sound like you're struggling with fear,  If you fear you are in immediate danger,remain aware of your surroundings at all times. watch for escape routes and potential weapons.\n"
     ]
    }
   ],
   "source": [
    "def generate_suggestions(model, tokenizer, data, labels, input_mood, num_suggestions):\n",
    "    input_sequence = tokenizer.texts_to_sequences([input_mood])\n",
    "    padded_input = pad_sequences(input_sequence, maxlen=max_sequence_length)\n",
    "    prediction = model.predict(padded_input)\n",
    "    top_predicted_indices = np.argsort(prediction, axis=1)[0][-num_suggestions:][::-1]\n",
    "    suggested_sentences = [data[index][1] for index in top_predicted_indices]\n",
    "    return suggested_sentences\n",
    "\n",
    "input_mood = \"sadness\"\n",
    "suggestion = generate_suggestions(model, tokenizer,data, labels, input_mood, 3)\n",
    "suggestion = suggestion[1]\n",
    "print(f\"You sound like you're struggling with sadness, {suggestion}\")\n",
    "\n",
    "input_mood = \"anger\"\n",
    "suggestionss = generate_suggestions(model, tokenizer,data, labels, input_mood, 3)\n",
    "suggestion = suggestionss[2]\n",
    "print(f\"You sound like you're struggling with anger, {suggestion}\")\n",
    "\n",
    "input_mood = \"anger\"\n",
    "suggestionss = generate_suggestions(model, tokenizer,data, labels, input_mood, 3)\n",
    "suggestion = suggestionss[1]\n",
    "print(f\"You sound like you're struggling with fear,  {suggestion}\")"
   ]
  }
 ],
 "metadata": {
  "accelerator": "GPU",
  "colab": {
   "gpuType": "T4",
   "provenance": []
  },
  "kernelspec": {
   "display_name": "Python 3",
   "language": "python",
   "name": "python3"
  },
  "language_info": {
   "codemirror_mode": {
    "name": "ipython",
    "version": 3
   },
   "file_extension": ".py",
   "mimetype": "text/x-python",
   "name": "python",
   "nbconvert_exporter": "python",
   "pygments_lexer": "ipython3",
   "version": "3.8.5"
  }
 },
 "nbformat": 4,
 "nbformat_minor": 1
}
