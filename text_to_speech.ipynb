{
 "cells": [
  {
   "cell_type": "code",
   "execution_count": null,
   "metadata": {
    "id": "WU7KRp9Tuebb"
   },
   "outputs": [],
   "source": [
    "from TTS.utils.synthesizer import Synthesizer\n",
    "\n",
    "config_path='/config.json'\n",
    "model_path='/model.pth'\n",
    "\n",
    "text = \"نفس عمیق بکشید\"\n",
    "\n",
    "synthesizer = Synthesizer(model_path, config_path)\n",
    "wavs = synthesizer.tts(text)\n",
    "synthesizer.save_wav(wavs, '/sp.wav')"
   ]
  },
  {
   "cell_type": "code",
   "execution_count": null,
   "metadata": {
    "id": "SO1X9UM_uied"
   },
   "outputs": [],
   "source": [
    "import IPython\n",
    "IPython.display.Audio('sp.wav')"
   ]
  }
 ],
 "metadata": {
  "colab": {
   "provenance": []
  },
  "kernelspec": {
   "display_name": "Python 3",
   "language": "python",
   "name": "python3"
  },
  "language_info": {
   "codemirror_mode": {
    "name": "ipython",
    "version": 3
   },
   "file_extension": ".py",
   "mimetype": "text/x-python",
   "name": "python",
   "nbconvert_exporter": "python",
   "pygments_lexer": "ipython3",
   "version": "3.8.5"
  }
 },
 "nbformat": 4,
 "nbformat_minor": 1
}
