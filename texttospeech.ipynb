{
  "nbformat": 4,
  "nbformat_minor": 0,
  "metadata": {
    "colab": {
      "provenance": []
    },
    "kernelspec": {
      "name": "python3",
      "display_name": "Python 3"
    },
    "language_info": {
      "name": "python"
    }
  },
  "cells": [
    {
      "cell_type": "code",
      "source": [
        "!sudo apt-get install espeak"
      ],
      "metadata": {
        "id": "yiC6gzHWk1Cx"
      },
      "execution_count": null,
      "outputs": []
    },
    {
      "cell_type": "code",
      "execution_count": null,
      "metadata": {
        "id": "ifi8IskruVxE"
      },
      "outputs": [],
      "source": [
        "!pip install TTS"
      ]
    },
    {
      "cell_type": "code",
      "source": [
        "\n",
        "from TTS.config import load_config\n",
        "from TTS.utils.manage import ModelManager\n",
        "from TTS.utils.synthesizer import Synthesizer\n",
        "\n",
        "config='/config.json'\n",
        "model='/best_model.pth'\n",
        "\n",
        "model_path = model\n",
        "config_path = config\n",
        "\n",
        "text = \"نفس عمیق بکشید\"\n",
        "\n",
        "synthesizer = Synthesizer(\n",
        "    model_path, config_path\n",
        ")\n",
        "wavs = synthesizer.tts(text)\n",
        "synthesizer.save_wav(wavs, '/sp.wav')\n"
      ],
      "metadata": {
        "id": "WU7KRp9Tuebb"
      },
      "execution_count": null,
      "outputs": []
    },
    {
      "cell_type": "code",
      "source": [
        "import IPython\n",
        "IPython.display.Audio('sp.wav')"
      ],
      "metadata": {
        "id": "SO1X9UM_uied"
      },
      "execution_count": null,
      "outputs": []
    }
  ]
}